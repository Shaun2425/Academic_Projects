{
 "cells": [
  {
   "cell_type": "code",
   "execution_count": 1,
   "id": "e0e6413a",
   "metadata": {},
   "outputs": [],
   "source": [
    "import numpy as np\n",
    "import matplotlib.pyplot as plt\n",
    "import torch\n",
    "import torch.nn as nn\n",
    "from torch.utils.data import Dataset, DataLoader\n",
    "from sklearn.linear_model import LogisticRegression\n",
    "from sklearn.preprocessing import StandardScaler\n",
    "from sklearn.ensemble import RandomForestClassifier\n",
    "from sklearn.metrics import classification_report\n",
    "import torch.nn.functional as F\n",
    "import torchvision.transforms as transforms"
   ]
  },
  {
   "cell_type": "code",
   "execution_count": 4,
   "id": "ebed2b20",
   "metadata": {},
   "outputs": [],
   "source": [
    "# this allows pytorch to use a GPU, if one is available\n",
    "device = torch.device('cuda' if torch.cuda.is_available() else 'cpu')"
   ]
  },
  {
   "cell_type": "code",
   "execution_count": 5,
   "id": "acbef435",
   "metadata": {},
   "outputs": [
    {
     "data": {
      "text/plain": [
       "device(type='cpu')"
      ]
     },
     "execution_count": 5,
     "metadata": {},
     "output_type": "execute_result"
    }
   ],
   "source": [
    "device"
   ]
  },
  {
   "cell_type": "code",
   "execution_count": 6,
   "id": "b0ea59e5",
   "metadata": {},
   "outputs": [],
   "source": [
    "data = np.load('./pathmnist.npz')"
   ]
  },
  {
   "cell_type": "code",
   "execution_count": 7,
   "id": "8b9f75e5",
   "metadata": {},
   "outputs": [],
   "source": [
    "train_data = data['train_images']\n",
    "train_labels = data['train_labels']\n",
    "val_data = data['val_images']\n",
    "val_labels = data['val_labels']\n",
    "test_data = data['test_images']\n",
    "test_labels = data['test_labels']"
   ]
  },
  {
   "cell_type": "markdown",
   "id": "94abfc8e",
   "metadata": {},
   "source": [
    "Assigning each of the training, validation and test sets to their own array"
   ]
  },
  {
   "cell_type": "code",
   "execution_count": 8,
   "id": "b7c71712",
   "metadata": {},
   "outputs": [],
   "source": [
    "label_dict = {\n",
    "            0: \"adipose\",\n",
    "            1: \"background\",\n",
    "            2: \"debris\",\n",
    "            3: \"lymphocytes\",\n",
    "            4: \"mucus\",\n",
    "            5: \"smooth muscle\",\n",
    "            6: \"normal colon mucosa\",\n",
    "            7: \"cancer-associated stroma\",\n",
    "            8: \"colorectal adenocarcinoma epithelium\"\n",
    "        }"
   ]
  },
  {
   "cell_type": "code",
   "execution_count": 9,
   "id": "c8741acc",
   "metadata": {},
   "outputs": [
    {
     "data": {
      "text/plain": [
       "(89996, 28, 28, 3)"
      ]
     },
     "execution_count": 9,
     "metadata": {},
     "output_type": "execute_result"
    }
   ],
   "source": [
    "train_data.shape"
   ]
  },
  {
   "cell_type": "markdown",
   "id": "668838f4",
   "metadata": {},
   "source": [
    "Each image is of size 28x28x3. The 28 corresponds to the height and width of the image in pixels. There are 3 channels, corresponding to the amount of Red, Green, and Blue in each pixel."
   ]
  },
  {
   "cell_type": "markdown",
   "id": "a935f2e9",
   "metadata": {},
   "source": [
    "# Data format for Pytorch"
   ]
  },
  {
   "cell_type": "code",
   "execution_count": 10,
   "id": "33a99e59",
   "metadata": {},
   "outputs": [],
   "source": [
    "from torchvision.datasets import ImageFolder\n",
    "from torchvision.transforms import ToTensor"
   ]
  },
  {
   "cell_type": "code",
   "execution_count": 11,
   "id": "a431887c",
   "metadata": {},
   "outputs": [],
   "source": [
    "# Converting our data into tensors\n",
    "\n",
    "def torch_format_data(data, data_name, label_name, device):\n",
    "    t_data = data[data_name]\n",
    "    t_data = t_data.astype(np.float32)\n",
    "    t_data = np.mean(t_data, -1)/256\n",
    "    mean = t_data.mean()               # Calculating mean\n",
    "    std = t_data.std()                 # Calculating standard deviation\n",
    "    t_data = np.expand_dims(t_data,1)\n",
    "    labels = data[label_name]\n",
    "    labels = labels.squeeze(1)\n",
    "    \n",
    "    t_data = torch.tensor(t_data)\n",
    "    labels = torch.tensor(labels, dtype=torch.long, device=device)\n",
    "    dataset = torch.utils.data.TensorDataset(t_data, labels)\n",
    "    return dataset,mean,std"
   ]
  },
  {
   "cell_type": "markdown",
   "id": "6a7ea3ef",
   "metadata": {},
   "source": [
    "Along with converting the data into tensors we have also converted the image from 3 channels to 1 channel."
   ]
  },
  {
   "cell_type": "code",
   "execution_count": 12,
   "id": "393a04f6",
   "metadata": {},
   "outputs": [],
   "source": [
    "train_set,train_mean,train_std = torch_format_data(data, 'train_images', 'train_labels', device)\n",
    "validation_set,validation_mean,validation_std = torch_format_data(data, 'val_images', 'val_labels', device)\n",
    "test_set,test_mean,test_std = torch_format_data(data, 'test_images', 'test_labels', device)"
   ]
  },
  {
   "cell_type": "markdown",
   "id": "0157eea8",
   "metadata": {},
   "source": [
    "For preprocessing of the image (normalization) we have calculated the mean and standard deviation which would be later used in the ImageClassificationBase class."
   ]
  },
  {
   "cell_type": "markdown",
   "id": "476cad15",
   "metadata": {},
   "source": [
    "# Data Visualization"
   ]
  },
  {
   "cell_type": "code",
   "execution_count": 13,
   "id": "0508e218",
   "metadata": {},
   "outputs": [],
   "source": [
    "img, label = train_set[0]    # Accessing the image and label"
   ]
  },
  {
   "cell_type": "code",
   "execution_count": 14,
   "id": "4cff89ae",
   "metadata": {},
   "outputs": [],
   "source": [
    "def show_example(img, label):\n",
    "    print(label.item())\n",
    "    print(f'Label: \"{label_dict[label.item()]}\"')\n",
    "    plt.imshow(img.permute(1, 2, 0))       # Changing the tensor dimension for visualization\n",
    "    print('Image shape:', img.shape)"
   ]
  },
  {
   "cell_type": "markdown",
   "id": "6600df82",
   "metadata": {},
   "source": [
    "Creating a helper function to display an image and its label."
   ]
  },
  {
   "cell_type": "code",
   "execution_count": 15,
   "id": "b093ccea",
   "metadata": {},
   "outputs": [
    {
     "name": "stdout",
     "output_type": "stream",
     "text": [
      "0\n",
      "Label: \"adipose\"\n",
      "Image shape: torch.Size([1, 28, 28])\n"
     ]
    },
    {
     "data": {
      "image/png": "[encoded data removed]",
      "text/plain": [
       "<Figure size 432x288 with 1 Axes>"
      ]
     },
     "metadata": {
      "needs_background": "light"
     },
     "output_type": "display_data"
    }
   ],
   "source": [
    "show_example(*train_set[0])"
   ]
  },
  {
   "cell_type": "markdown",
   "id": "fbf23137",
   "metadata": {},
   "source": [
    "Thus we have visualised the image along with its label and dimensions."
   ]
  },
  {
   "cell_type": "code",
   "execution_count": 16,
   "id": "0b70af22",
   "metadata": {},
   "outputs": [],
   "source": [
    "batch_size= 100\n",
    "train_dl = DataLoader(train_set, batch_size, shuffle=True, num_workers=0)\n",
    "val_dl = DataLoader(validation_set, batch_size*2, num_workers=0)"
   ]
  },
  {
   "cell_type": "markdown",
   "id": "3f8c104e",
   "metadata": {},
   "source": [
    "We create data loaders for training and validation, to load the data in batches. Each time the following code is run, we get a different bach, since the sampler shuffles the indices before creating batches. "
   ]
  },
  {
   "cell_type": "markdown",
   "id": "d6f90d4d",
   "metadata": {},
   "source": [
    "# Defining the model (Convolutional Neural Network)"
   ]
  },
  {
   "cell_type": "markdown",
   "id": "e176843f",
   "metadata": {},
   "source": [
    "Defining the model by extending an ImageClassificationBase class which contains helper methods for training & validation."
   ]
  },
  {
   "cell_type": "code",
   "execution_count": 17,
   "id": "63616fd4",
   "metadata": {},
   "outputs": [],
   "source": [
    "class ImageClassificationBase(nn.Module):\n",
    "    def training_step(self, batch):\n",
    "        images, labels = batch \n",
    "        transform = transforms.Compose([transforms.Normalize(train_mean, train_std)]) # Normalization\n",
    "        images = transform(images)\n",
    "        out = self(images)                  # Generate predictions\n",
    "        loss = F.cross_entropy(out, labels) # Calculate loss\n",
    "        return loss\n",
    "    \n",
    "    def validation_step(self, batch):\n",
    "        images, labels = batch \n",
    "        transform = transforms.Compose([transforms.Normalize(train_mean, train_std)]) # Normalization\n",
    "        images = transform(images)\n",
    "        out = self(images)                    # Generate predictions\n",
    "        loss = F.cross_entropy(out, labels)   # Calculate loss\n",
    "        acc = accuracy(out, labels)           # Calculate accuracy\n",
    "        return {'val_loss': loss.detach(), 'val_acc': acc}\n",
    "        \n",
    "    def validation_epoch_end(self, outputs):\n",
    "        batch_losses = [x['val_loss'] for x in outputs]\n",
    "        epoch_loss = torch.stack(batch_losses).mean()   # Combine losses\n",
    "        batch_accs = [x['val_acc'] for x in outputs]\n",
    "        epoch_acc = torch.stack(batch_accs).mean()      # Combine accuracies\n",
    "        return {'val_loss': epoch_loss.item(), 'val_acc': epoch_acc.item()}\n",
    "    \n",
    "    def epoch_end(self, epoch, result):\n",
    "        print(\"Epoch [{}], train_loss: {:.4f}, val_loss: {:.4f}, val_acc: {:.4f}\".format(\n",
    "            epoch, result['train_loss'], result['val_loss'], result['val_acc']))\n",
    "        \n",
    "def accuracy(outputs, labels):\n",
    "    _, preds = torch.max(outputs, dim=1)\n",
    "    return torch.tensor(torch.sum(preds == labels).item() / len(preds))"
   ]
  },
  {
   "cell_type": "markdown",
   "id": "a5184f09",
   "metadata": {},
   "source": [
    "For the image classification the loss that we use is cross entropy and the metric used for evaluation is accuracy metric. Over here we are extending the nn.module class and capture all of the image classification related code in a single base class called ImageClassificationBase(). For performing image classification this base class would act as the starting point. \n",
    "\n",
    "In the training_step() function from the batch we get images and labels and perform preprocessing on the images. We pass these images to the model and get a output and finally we calculate loss using cross entropy and return it. Similarly for validation_step() function we repeat the same steps and calculate accuracy then return validation loss and validation accuracy.\n",
    "\n",
    "The validation_epoch_end() function is going to take the losses and accuracies from all different batches of validation data and combine them taking the mean and return a single validation loss and validation accuracy for the validation set. \n",
    "\n",
    "The epoch_end() function would take the results of the epoch and print them out. The accuracy() function is used to calculate the accuracy of the predictions."
   ]
  },
  {
   "cell_type": "code",
   "execution_count": 18,
   "id": "61662829",
   "metadata": {},
   "outputs": [],
   "source": [
    "class CnnModel(ImageClassificationBase):\n",
    "    def __init__(self):\n",
    "        super().__init__()\n",
    "        self.network = nn.Sequential(\n",
    "            nn.Conv2d(1, 16, kernel_size=5,stride = 1, padding=2),\n",
    "            nn.ReLU(),\n",
    "            nn.MaxPool2d(2, 2),   \n",
    "            \n",
    "            nn.Conv2d(16, 32, kernel_size=5, stride=1, padding=2),\n",
    "            nn.ReLU(),\n",
    "            nn.MaxPool2d(2, 2),    \n",
    "\n",
    " \n",
    "            nn.Flatten(), \n",
    "            nn.Linear(32 * 7 * 7, 9))\n",
    "             \n",
    "    def forward(self, xb):\n",
    "         \n",
    "        return self.network(xb)"
   ]
  },
  {
   "cell_type": "markdown",
   "id": "01ed7dfb",
   "metadata": {},
   "source": [
    "Here we are extending the ImageClassificationBase class to create the CnnModel. We use nn.Sequential to chain the layers and activations functions into a single network architecture. Using nn.Sequential we pass the input through each of the layer. Here the output of the first convolutional layer is passed to second convolutional layer and finally to the flattened layer. In the first layer it takes 1 channel image and gives 16 convolution filters (out_channels) which are the feature maps, the kernel is used to find various patterns in the input image and these patterns are then dubbed to feature maps. These feature maps are then passed to Relu activation function to capture non-linearity and then we finally perform max-pooling for extracting dominant features. Since first layer captures low-level features the second layer would help us in capturing high- level features. \n",
    "\n",
    "The output feature maps from the second layer are flattened to a vector using nn.Flatten() and passed to the fully connected linear layer, this is done because at the end we want a vector of size 9 since we have 9 tissue types. Each element represents the probability that an image belongs to a particular tissue type. \n",
    "\n",
    "The function, forward, describes how the whole network is put together from its component layers."
   ]
  },
  {
   "cell_type": "code",
   "execution_count": 19,
   "id": "e7b492b9",
   "metadata": {},
   "outputs": [
    {
     "data": {
      "text/plain": [
       "CnnModel(\n",
       "  (network): Sequential(\n",
       "    (0): Conv2d(1, 16, kernel_size=(5, 5), stride=(1, 1), padding=(2, 2))\n",
       "    (1): ReLU()\n",
       "    (2): MaxPool2d(kernel_size=2, stride=2, padding=0, dilation=1, ceil_mode=False)\n",
       "    (3): Conv2d(16, 32, kernel_size=(5, 5), stride=(1, 1), padding=(2, 2))\n",
       "    (4): ReLU()\n",
       "    (5): MaxPool2d(kernel_size=2, stride=2, padding=0, dilation=1, ceil_mode=False)\n",
       "    (6): Flatten(start_dim=1, end_dim=-1)\n",
       "    (7): Linear(in_features=1568, out_features=9, bias=True)\n",
       "  )\n",
       ")"
      ]
     },
     "execution_count": 19,
     "metadata": {},
     "output_type": "execute_result"
    }
   ],
   "source": [
    "model = CnnModel()    # Instantiating our object\n",
    "model                 # Displaying the model"
   ]
  },
  {
   "cell_type": "code",
   "execution_count": 20,
   "id": "0ce06368",
   "metadata": {},
   "outputs": [
    {
     "name": "stdout",
     "output_type": "stream",
     "text": [
      "images.shape: torch.Size([100, 1, 28, 28])\n",
      "out.shape: torch.Size([100, 9])\n",
      "out[0]: tensor([ 0.0202, -0.0697,  0.1192, -0.1159, -0.0790,  0.0157,  0.0072, -0.0158,\n",
      "         0.0830], grad_fn=<SelectBackward>)\n"
     ]
    }
   ],
   "source": [
    "for images, labels in train_dl:\n",
    "    print('images.shape:', images.shape)\n",
    "    out = model(images)\n",
    "    print('out.shape:', out.shape)\n",
    "    print('out[0]:', out[0])\n",
    "    break"
   ]
  },
  {
   "cell_type": "markdown",
   "id": "3ea76afd",
   "metadata": {},
   "source": [
    "Here we are checking the expected output on the batch of training data. 'out.shape' indicates a batch size of 100 and single vector of size 9 which is our required output. out[0] gives 9 outputs which are the scores given by the model for each tissue type. The highest score is '0.13141' at the third index place which represents \"lymphocytes\". Thus the model predicts this image to be of tissue type \"lymphocytes\". "
   ]
  },
  {
   "cell_type": "code",
   "execution_count": 21,
   "id": "b488f21d",
   "metadata": {},
   "outputs": [],
   "source": [
    "def get_default_device():\n",
    "    \"\"\"Pick GPU if available, else CPU\"\"\"\n",
    "    if torch.cuda.is_available():\n",
    "        return torch.device('cuda')\n",
    "    else:\n",
    "        return torch.device('cpu')\n",
    "    \n",
    "def to_device(data, device):\n",
    "    \"\"\"Move tensor(s) to chosen device\"\"\"\n",
    "    if isinstance(data, (list,tuple)):\n",
    "        return [to_device(x, device) for x in data]\n",
    "    return data.to(device, non_blocking=True)\n",
    "\n",
    "class DeviceDataLoader():\n",
    "    \"\"\"Wrap a dataloader to move data to a device\"\"\"\n",
    "    def __init__(self, dl, device):\n",
    "        self.dl = dl\n",
    "        self.device = device\n",
    "        \n",
    "    def __iter__(self):\n",
    "        \"\"\"Yield a batch of data after moving it to device\"\"\"\n",
    "        for b in self.dl: \n",
    "            yield to_device(b, self.device)\n",
    "\n",
    "    def __len__(self):\n",
    "        \"\"\"Number of batches\"\"\"\n",
    "        return len(self.dl)"
   ]
  },
  {
   "cell_type": "code",
   "execution_count": 22,
   "id": "cff729a3",
   "metadata": {},
   "outputs": [
    {
     "data": {
      "text/plain": [
       "device(type='cpu')"
      ]
     },
     "execution_count": 22,
     "metadata": {},
     "output_type": "execute_result"
    }
   ],
   "source": [
    "device = get_default_device()\n",
    "device"
   ]
  },
  {
   "cell_type": "code",
   "execution_count": 23,
   "id": "f6b41ab7",
   "metadata": {},
   "outputs": [],
   "source": [
    "train_dl2 = DeviceDataLoader(train_dl, device)\n",
    "val_dl2 = DeviceDataLoader(val_dl, device)\n",
    "to_device(model, device);"
   ]
  },
  {
   "cell_type": "markdown",
   "id": "525270f0",
   "metadata": {},
   "source": [
    "We can now wrap our training and validation data loaders using DeviceDataLoader for automatically transferring batches of data to the GPU, and use 'to_device' to move our model to the GPU."
   ]
  },
  {
   "cell_type": "markdown",
   "id": "61549166",
   "metadata": {},
   "source": [
    "# Training the Model"
   ]
  },
  {
   "cell_type": "code",
   "execution_count": 24,
   "id": "4b2289f3",
   "metadata": {},
   "outputs": [],
   "source": [
    "@torch.no_grad()\n",
    "def evaluate(model, val_loader):\n",
    "    model.eval()\n",
    "    outputs = [model.validation_step(batch) for batch in val_loader]\n",
    "    return model.validation_epoch_end(outputs)\n",
    "\n",
    "def fit(epochs, lr, model, train_loader, val_loader, opt_func):\n",
    "    history = []\n",
    "    optimizer = opt_func(model.parameters(), lr)\n",
    "    for epoch in range(epochs):\n",
    "        # Training Phase \n",
    "        model.train()\n",
    "        train_losses = []\n",
    "        for batch in train_loader:\n",
    "            loss = model.training_step(batch)\n",
    "            train_losses.append(loss)\n",
    "            loss.backward()              # backpropagation, compute gradients\n",
    "            optimizer.step()             # apply gradients  \n",
    "            optimizer.zero_grad()        # clear gradients for this training step\n",
    "        # Validation phase\n",
    "        result = evaluate(model, val_loader)\n",
    "        result['train_loss'] = torch.stack(train_losses).mean().item()\n",
    "        model.epoch_end(epoch, result)\n",
    "        history.append(result)\n",
    "    return history"
   ]
  },
  {
   "cell_type": "markdown",
   "id": "46dd7163",
   "metadata": {},
   "source": [
    "We have defined two functions: fit and evaluate to train the model using gradient descent and evaluate its performance on the validation set.\n",
    "\n",
    "The function fit is going to perform gradient descent, for given number of epochs it's going to loop over the number of epochs and in each epoch there is a training phase and a validation phase. In the training phase we get batches of data from the training data loader, we call the training step function and it returns the loss for the passed batches of data. We perform gradient descent using an optimizer and the optimization function here is either Stochastic Gradient Descent or Adam. The optimizer basically takes the model parameters which the weights and biases of all the layers and also it takes the learning rate and then updates the weights and baises using the graients that have been calculated when we called loss.backward(). We are also keeping track of the batch- wise training losses. \n",
    "\n",
    "We use decorator @torch.no_grad() at the evaluate() function so that it will not compute any gradients. In the function we calculate the validation loss and validation accuracy for each batch and lastly we average out the validation loss and validation accuracy across the batches of data and return a single output. \n",
    "\n",
    "In the result we get the validation loss and validation accuracy. Then we are calculating the average training loss for the entire epoch. We then call model.epoch_end() and it is going to print the epoch number, training loss, validation loss and validation accuracy. We take the result and place it into history list and return it so that we have the entire history of the model as the output of the fit function. "
   ]
  },
  {
   "cell_type": "code",
   "execution_count": 25,
   "id": "4f475530",
   "metadata": {},
   "outputs": [],
   "source": [
    "# model = to_device(CnnModel(), device) "
   ]
  },
  {
   "cell_type": "markdown",
   "id": "1a3fff00",
   "metadata": {},
   "source": [
    "Before training, we instantiate the model once again and see how it performs on the validation set with the initial set of parameters.\n",
    "\n",
    "We are moving the model to the device"
   ]
  },
  {
   "cell_type": "code",
   "execution_count": 26,
   "id": "0ef4b730",
   "metadata": {},
   "outputs": [
    {
     "data": {
      "text/plain": [
       "{'val_loss': 2.2080914974212646, 'val_acc': 0.12872548401355743}"
      ]
     },
     "execution_count": 26,
     "metadata": {},
     "output_type": "execute_result"
    }
   ],
   "source": [
    "evaluate(model, val_dl2)"
   ]
  },
  {
   "cell_type": "markdown",
   "id": "0f9565fe",
   "metadata": {},
   "source": [
    "We evaluating the model on the validation dataloader and we get very low accuracy because the weights inside the kernels for performing convolution are initialised randomly and we get a random result. As we begin training the model weights would change and we would get better results."
   ]
  },
  {
   "cell_type": "code",
   "execution_count": 27,
   "id": "789a9789",
   "metadata": {},
   "outputs": [],
   "source": [
    "# Hyperparameters for the Model\n",
    "\n",
    "num_epochs = 10\n",
    "opt_func = [torch.optim.Adam, torch.optim.SGD]\n",
    "lr = 0.001"
   ]
  },
  {
   "cell_type": "code",
   "execution_count": 28,
   "id": "9993f9e5",
   "metadata": {},
   "outputs": [
    {
     "name": "stdout",
     "output_type": "stream",
     "text": [
      "Epoch [0], train_loss: 1.0746, val_loss: 0.9360, val_acc: 0.6573\n",
      "Epoch [1], train_loss: 0.8012, val_loss: 0.7439, val_acc: 0.7352\n",
      "Epoch [2], train_loss: 0.6991, val_loss: 0.6759, val_acc: 0.7585\n",
      "Epoch [3], train_loss: 0.6228, val_loss: 0.6528, val_acc: 0.7683\n",
      "Epoch [4], train_loss: 0.5642, val_loss: 0.6386, val_acc: 0.7738\n",
      "Epoch [5], train_loss: 0.5212, val_loss: 0.5773, val_acc: 0.7924\n",
      "Epoch [6], train_loss: 0.4868, val_loss: 0.5367, val_acc: 0.8128\n",
      "Epoch [7], train_loss: 0.4690, val_loss: 0.5679, val_acc: 0.8004\n",
      "Epoch [8], train_loss: 0.4458, val_loss: 0.5308, val_acc: 0.8108\n",
      "Epoch [9], train_loss: 0.4278, val_loss: 0.5418, val_acc: 0.8142\n"
     ]
    }
   ],
   "source": [
    "history = fit(num_epochs, lr, model, train_dl2, val_dl2, torch.optim.Adam)"
   ]
  },
  {
   "cell_type": "markdown",
   "id": "5b47a751",
   "metadata": {},
   "source": [
    "We perform training by calling the fit() function and passing the required parameters. The results are stored\n",
    "in history as a dictionary"
   ]
  },
  {
   "cell_type": "code",
   "execution_count": 31,
   "id": "67b5467a",
   "metadata": {},
   "outputs": [],
   "source": [
    "def plot_accuracies(history):\n",
    "    accuracies = [x['val_acc'] for x in history] # getting validation accuracies from each epoch in history\n",
    "    plt.plot(accuracies, '-x')\n",
    "    plt.xlabel('epoch')\n",
    "    plt.ylabel('accuracy')\n",
    "    plt.title('Accuracy vs. No. of epochs');"
   ]
  },
  {
   "cell_type": "markdown",
   "id": "b6e189a6",
   "metadata": {},
   "source": [
    "We plot the valdation set accuracies to study how the model improves over time.\n",
    "\n"
   ]
  },
  {
   "cell_type": "code",
   "execution_count": 32,
   "id": "6597a165",
   "metadata": {},
   "outputs": [
    {
     "data": {
      "image/png": "[encoded data removed]",
      "text/plain": [
       "<Figure size 432x288 with 1 Axes>"
      ]
     },
     "metadata": {
      "needs_background": "light"
     },
     "output_type": "display_data"
    }
   ],
   "source": [
    "plot_accuracies(history)"
   ]
  },
  {
   "cell_type": "code",
   "execution_count": 33,
   "id": "6925b98d",
   "metadata": {},
   "outputs": [],
   "source": [
    "def plot_losses(history):\n",
    "    train_losses = [x.get('train_loss') for x in history]\n",
    "    val_losses = [x['val_loss'] for x in history]\n",
    "    plt.plot(train_losses, '-bx')\n",
    "    plt.plot(val_losses, '-rx')\n",
    "    plt.xlabel('epoch')\n",
    "    plt.ylabel('loss')\n",
    "    plt.legend(['Training', 'Validation'])\n",
    "    plt.title('Loss vs. No. of epochs');"
   ]
  },
  {
   "cell_type": "markdown",
   "id": "124e6ae4",
   "metadata": {},
   "source": [
    "We plot the training and validation losses to study the trend."
   ]
  },
  {
   "cell_type": "code",
   "execution_count": 34,
   "id": "ef1453cb",
   "metadata": {},
   "outputs": [
    {
     "data": {
      "image/png": "[encoded data removed]",
      "text/plain": [
       "<Figure size 432x288 with 1 Axes>"
      ]
     },
     "metadata": {
      "needs_background": "light"
     },
     "output_type": "display_data"
    }
   ],
   "source": [
    "plot_losses(history)"
   ]
  },
  {
   "cell_type": "markdown",
   "id": "12ca66f8",
   "metadata": {},
   "source": [
    "# Testing"
   ]
  },
  {
   "cell_type": "code",
   "execution_count": 35,
   "id": "73ed8957",
   "metadata": {},
   "outputs": [
    {
     "data": {
      "text/plain": [
       "{'val_loss': 0.634674072265625, 'val_acc': 0.7810803055763245}"
      ]
     },
     "execution_count": 35,
     "metadata": {},
     "output_type": "execute_result"
    }
   ],
   "source": [
    "test_loader = DeviceDataLoader(DataLoader(test_set, batch_size*2), device) # testing using test_dataset\n",
    "result = evaluate(model, test_loader)\n",
    "result"
   ]
  },
  {
   "cell_type": "markdown",
   "id": "fc7ee21d",
   "metadata": {},
   "source": [
    "We look at the overall loss and accuracy of the model on the test set."
   ]
  },
  {
   "cell_type": "markdown",
   "id": "ea736920",
   "metadata": {},
   "source": [
    "# Testing with Individual Images"
   ]
  },
  {
   "cell_type": "code",
   "execution_count": 36,
   "id": "e3b56e0f",
   "metadata": {},
   "outputs": [],
   "source": [
    "def predict_image(img, model):\n",
    "    # Convert to a batch of 1\n",
    "    xb = to_device(img.unsqueeze(0), device)\n",
    "    # Get predictions from model\n",
    "    yb = model(xb)\n",
    "    # Pick index with highest probability\n",
    "    _, preds  = torch.max(yb, dim=1)\n",
    "    # Retrieve the class label\n",
    "    return label_dict[label.item()]"
   ]
  },
  {
   "cell_type": "code",
   "execution_count": 37,
   "id": "4e66c597",
   "metadata": {},
   "outputs": [
    {
     "name": "stdout",
     "output_type": "stream",
     "text": [
      "Label: \"colorectal adenocarcinoma epithelium\" , Predicted: colorectal adenocarcinoma epithelium\n"
     ]
    },
    {
     "data": {
      "image/png": "[encoded data removed]",
      "text/plain": [
       "<Figure size 432x288 with 1 Axes>"
      ]
     },
     "metadata": {
      "needs_background": "light"
     },
     "output_type": "display_data"
    }
   ],
   "source": [
    "img, label = test_set[0]\n",
    "plt.imshow(img.permute(1, 2, 0))\n",
    "print(f'Label: \"{label_dict[label.item()]}\"', ', Predicted:', predict_image(img, model))"
   ]
  },
  {
   "cell_type": "markdown",
   "id": "052b4bc3",
   "metadata": {},
   "source": [
    "The input image is predicted accurately"
   ]
  },
  {
   "cell_type": "markdown",
   "id": "5ab735d2",
   "metadata": {},
   "source": [
    "# Logistic Regression"
   ]
  },
  {
   "cell_type": "code",
   "execution_count": 38,
   "id": "34f4f922",
   "metadata": {},
   "outputs": [],
   "source": [
    "import torch.nn as nn\n",
    "\n",
    "input_size = 28*28\n",
    "num_classes = 9\n",
    "\n",
    "#Logistic regression model\n",
    "model_ = nn.Linear(input_size, num_classes)"
   ]
  },
  {
   "cell_type": "markdown",
   "id": "b7e83c67",
   "metadata": {},
   "source": [
    "Since nn.Linear expects each training example to be a vector, each 1x28x28 image tensor is flattened into a vector of size 784 (28*28) before being passed into the model.\n",
    "\n",
    "The output for each image is a vector of size 9, with each element signifying the probability of a particular target label (i.e., 0 to 8). The predicted label for an image is simply the one with the highest logists score."
   ]
  },
  {
   "cell_type": "markdown",
   "id": "02ca4da3",
   "metadata": {},
   "source": [
    "# Training the model"
   ]
  },
  {
   "cell_type": "code",
   "execution_count": 39,
   "id": "6a221f25",
   "metadata": {},
   "outputs": [],
   "source": [
    "def fit2(epochs, lr, model, train_loader, val_loader, opt_func=torch.optim.Adam):\n",
    "    optimizer = opt_func(model.parameters(), lr)\n",
    "    history = [] # for recording epoch-wise results\n",
    "    \n",
    "    for epoch in range(epochs):\n",
    "        \n",
    "        # Training Phase \n",
    "        for batch in train_loader:\n",
    "            loss = model.training_step(batch)\n",
    "            loss.backward()\n",
    "            optimizer.step()\n",
    "            optimizer.zero_grad()\n",
    "        \n",
    "        # Validation phase\n",
    "        result = evaluate2(model, val_loader)\n",
    "        model.epoch_end(epoch, result)\n",
    "        history.append(result)\n",
    "\n",
    "    return history"
   ]
  },
  {
   "cell_type": "code",
   "execution_count": 40,
   "id": "a56fc053",
   "metadata": {},
   "outputs": [],
   "source": [
    "def evaluate2(model, val_loader):\n",
    "    outputs = [model.validation_step(batch) for batch in val_loader]\n",
    "    return model.validation_epoch_end(outputs)"
   ]
  },
  {
   "cell_type": "code",
   "execution_count": 41,
   "id": "20690887",
   "metadata": {},
   "outputs": [],
   "source": [
    "class TypeModel(nn.Module):\n",
    "    def __init__(self):\n",
    "        super().__init__()\n",
    "        self.linear = nn.Linear(input_size, num_classes)\n",
    "        \n",
    "    def forward(self, xb):\n",
    "        xb = xb.reshape(-1, 784)\n",
    "        out = self.linear(xb)\n",
    "        return out\n",
    "    \n",
    "    def training_step(self, batch):\n",
    "        images, labels = batch \n",
    "        transform = transforms.Compose([transforms.Normalize(train_mean, train_std)]) # Normalization\n",
    "        images = transform(images)\n",
    "        out = self(images)                  # Generate predictions\n",
    "        loss = F.cross_entropy(out, labels) # Calculate loss\n",
    "        return loss\n",
    "    \n",
    "    def validation_step(self, batch):\n",
    "        images, labels = batch\n",
    "        transform = transforms.Compose([transforms.Normalize(train_mean, train_std)]) # Normalization\n",
    "        images = transform(images)\n",
    "        out = self(images)                    # Generate predictions\n",
    "        loss = F.cross_entropy(out, labels)   # Calculate loss\n",
    "        acc = accuracy(out, labels)           # Calculate accuracy\n",
    "        return {'val_loss': loss, 'val_acc': acc}\n",
    "        \n",
    "    def validation_epoch_end(self, outputs):\n",
    "        batch_losses = [x['val_loss'] for x in outputs]\n",
    "        epoch_loss = torch.stack(batch_losses).mean()   # Combine losses\n",
    "        batch_accs = [x['val_acc'] for x in outputs]\n",
    "        epoch_acc = torch.stack(batch_accs).mean()      # Combine accuracies\n",
    "        return {'val_loss': epoch_loss.item(), 'val_acc': epoch_acc.item()}\n",
    "    \n",
    "    def epoch_end(self, epoch, result):\n",
    "        print(\"Epoch [{}], val_loss: {:.4f}, val_acc: {:.4f}\".format(epoch, result['val_loss'], result['val_acc']))\n",
    "    \n",
    "model2 = TypeModel()"
   ]
  },
  {
   "cell_type": "code",
   "execution_count": 42,
   "id": "2d6e29a9",
   "metadata": {},
   "outputs": [
    {
     "data": {
      "text/plain": [
       "TypeModel(\n",
       "  (linear): Linear(in_features=784, out_features=9, bias=True)\n",
       ")"
      ]
     },
     "execution_count": 42,
     "metadata": {},
     "output_type": "execute_result"
    }
   ],
   "source": [
    "to_device(model2, device)"
   ]
  },
  {
   "cell_type": "code",
   "execution_count": 43,
   "id": "69bb65f7",
   "metadata": {},
   "outputs": [
    {
     "data": {
      "text/plain": [
       "{'val_loss': 2.4173715114593506, 'val_acc': 0.10421568900346756}"
      ]
     },
     "execution_count": 43,
     "metadata": {},
     "output_type": "execute_result"
    }
   ],
   "source": [
    "result0 = evaluate2(model2, val_dl2)\n",
    "result0"
   ]
  },
  {
   "cell_type": "code",
   "execution_count": 44,
   "id": "2eb16283",
   "metadata": {},
   "outputs": [
    {
     "name": "stdout",
     "output_type": "stream",
     "text": [
      "Epoch [0], val_loss: 1.9898, val_acc: 0.3087\n",
      "Epoch [1], val_loss: 1.9643, val_acc: 0.3039\n",
      "Epoch [2], val_loss: 1.9678, val_acc: 0.3244\n",
      "Epoch [3], val_loss: 1.9685, val_acc: 0.3194\n",
      "Epoch [4], val_loss: 1.9700, val_acc: 0.3281\n",
      "Epoch [5], val_loss: 2.0175, val_acc: 0.2616\n",
      "Epoch [6], val_loss: 1.9866, val_acc: 0.2939\n",
      "Epoch [7], val_loss: 1.9785, val_acc: 0.3008\n",
      "Epoch [8], val_loss: 2.0165, val_acc: 0.2607\n",
      "Epoch [9], val_loss: 1.9822, val_acc: 0.3097\n"
     ]
    }
   ],
   "source": [
    "history2 = fit2(10, 0.001, model2, train_dl2, val_dl2)"
   ]
  },
  {
   "cell_type": "code",
   "execution_count": 45,
   "id": "154a17d4",
   "metadata": {},
   "outputs": [
    {
     "data": {
      "image/png": "[encoded data removed]",
      "text/plain": [
       "<Figure size 432x288 with 1 Axes>"
      ]
     },
     "metadata": {
      "needs_background": "light"
     },
     "output_type": "display_data"
    }
   ],
   "source": [
    "history_log = [result0] + history2 \n",
    "accuracies = [result['val_acc'] for result in history_log] # getting validation accuracies from each epoch in history_log\n",
    "plt.plot(accuracies, '-x')\n",
    "plt.xlabel('epoch')\n",
    "plt.ylabel('accuracy')\n",
    "plt.title('Accuracy vs. No. of epochs');"
   ]
  },
  {
   "cell_type": "markdown",
   "id": "10d4adcf",
   "metadata": {},
   "source": [
    "# Testing"
   ]
  },
  {
   "cell_type": "code",
   "execution_count": 46,
   "id": "784da1a3",
   "metadata": {},
   "outputs": [
    {
     "data": {
      "text/plain": [
       "{'val_loss': 1.5946601629257202, 'val_acc': 0.4067284166812897}"
      ]
     },
     "execution_count": 46,
     "metadata": {},
     "output_type": "execute_result"
    }
   ],
   "source": [
    "test_loader2 = DeviceDataLoader(DataLoader(test_set, batch_size*2), device)\n",
    "result2 = evaluate2(model2, test_loader2)\n",
    "result2"
   ]
  },
  {
   "cell_type": "markdown",
   "id": "9e133605",
   "metadata": {},
   "source": [
    "# Hyperparameter Tuning for the CNN model"
   ]
  },
  {
   "cell_type": "code",
   "execution_count": 47,
   "id": "02e3b610",
   "metadata": {},
   "outputs": [
    {
     "name": "stdout",
     "output_type": "stream",
     "text": [
      "Epoch [0], train_loss: 0.3682, val_loss: 0.5044, val_acc: 0.8270\n",
      "Epoch [1], train_loss: 0.3624, val_loss: 0.5056, val_acc: 0.8275\n",
      "Epoch [2], train_loss: 0.3603, val_loss: 0.5067, val_acc: 0.8286\n",
      "Epoch [3], train_loss: 0.3588, val_loss: 0.5069, val_acc: 0.8295\n",
      "Epoch [4], train_loss: 0.3575, val_loss: 0.5050, val_acc: 0.8281\n",
      "Epoch [5], train_loss: 0.3565, val_loss: 0.5084, val_acc: 0.8267\n",
      "Epoch [6], train_loss: 0.3556, val_loss: 0.5088, val_acc: 0.8291\n",
      "Epoch [7], train_loss: 0.3549, val_loss: 0.5085, val_acc: 0.8285\n",
      "Epoch [8], train_loss: 0.3542, val_loss: 0.5063, val_acc: 0.8281\n",
      "Epoch [9], train_loss: 0.3534, val_loss: 0.5049, val_acc: 0.8303\n"
     ]
    }
   ],
   "source": [
    "#history1 = fit(num_epochs, lr, model, train_dl2, val_dl2, torch.optim.SGD)"
   ]
  },
  {
   "cell_type": "code",
   "execution_count": null,
   "id": "255e73da",
   "metadata": {},
   "outputs": [],
   "source": [
    "# test_loader1 = DeviceDataLoader(DataLoader(test_set, batch_size*2), device)\n",
    "# result1 = evaluate(model, test_loader1)\n",
    "# result1"
   ]
  }
 ],
 "metadata": {
  "kernelspec": {
   "display_name": "Python 3",
   "language": "python",
   "name": "python3"
  },
  "language_info": {
   "codemirror_mode": {
    "name": "ipython",
    "version": 3
   },
   "file_extension": ".py",
   "mimetype": "text/x-python",
   "name": "python",
   "nbconvert_exporter": "python",
   "pygments_lexer": "ipython3",
   "version": "3.8.8"
  }
 },
 "nbformat": 4,
 "nbformat_minor": 5
}
